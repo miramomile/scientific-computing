{
  "nbformat": 4,
  "nbformat_minor": 0,
  "metadata": {
    "colab": {
      "provenance": [],
      "authorship_tag": "ABX9TyNRb0hKMAx955Zob1qSgIbN",
      "include_colab_link": true
    },
    "kernelspec": {
      "name": "python3",
      "display_name": "Python 3"
    },
    "language_info": {
      "name": "python"
    }
  },
  "cells": [
    {
      "cell_type": "markdown",
      "metadata": {
        "id": "view-in-github",
        "colab_type": "text"
      },
      "source": [
        "<a href=\"https://colab.research.google.com/github/miramomile/scientific-computing/blob/main/Integration.ipynb\" target=\"_parent\"><img src=\"https://colab.research.google.com/assets/colab-badge.svg\" alt=\"Open In Colab\"/></a>"
      ]
    },
    {
      "cell_type": "code",
      "execution_count": null,
      "metadata": {
        "id": "SvVv7ptFRZpo"
      },
      "outputs": [],
      "source": [
        "import numpy as np\n",
        "a = 0\n",
        "b = np.pi\n",
        "n = 11\n",
        "h = (b - a) / (n - 1)\n",
        "x = np.linspace(a, b, n)\n",
        "f = np.sin(x)\n",
        "I_riemannL = h * sum(f[:n-1:])\n",
        "err_riemannL = 2 - I_riemannL\n",
        "I_riemannR = h * sum(f[1::])\n",
        "err_riemannR = 2 - I_riemannR\n",
        "I_mid = h * sum(np.sin ((x[:n-1] \\\n",
        "        + x[1:])/2))\n",
        "err_mid = 2 - I_mid\n",
        "print (I_riemannL)\n",
        "print (err_riemannL)\n",
        "print (I_riemannR)\n",
        "print (err_riemannR)\n",
        "print (I_mid)\n",
        "print (err_mid)"
      ]
    },
    {
      "cell_type": "code",
      "source": [
        "import numpy as np\n",
        "from scipy.integrate import trapz\n",
        "\n",
        "a = 0\n",
        "b = np.pi\n",
        "n = 11\n",
        "h = (b-a) / (n-1)\n",
        "x = np.linspace(a, b, n)\n",
        "f = np.sin(x)\n",
        "\n",
        "I_trapz = trapz(f,x)\n",
        "I_trap = (h/2)*(f[0]+ 2 * sum(f[1:n-1]) + f[n-1])\n",
        "\n",
        "print (I_trapz)\n",
        "print (I_trap)"
      ],
      "metadata": {
        "id": "XL_iptF_RkkD"
      },
      "execution_count": null,
      "outputs": []
    },
    {
      "cell_type": "code",
      "source": [
        "from scipy.integrate import quad\n",
        "\n",
        "I_quad, est_err_quad = \\\n",
        "          quad(np.sin, 0, np.pi)\n",
        "print(I_quad)\n",
        "err_quad = 2 - I_quad\n",
        "print(est_err_quad, err_quad)"
      ],
      "metadata": {
        "id": "eLSE-pPvRm4U"
      },
      "execution_count": null,
      "outputs": []
    },
    {
      "cell_type": "markdown",
      "source": [
        "quiz"
      ],
      "metadata": {
        "id": "eRiFInFyRphg"
      }
    },
    {
      "cell_type": "code",
      "source": [
        "import numpy as np\n",
        "from scipy.integrate import trapz\n",
        "\n",
        "a = 0\n",
        "b = np.pi\n",
        "n = 9\n",
        "h = (b-a) / (n-1)\n",
        "x = np.linspace(a, b, n)\n",
        "f = np.sin(x)\n",
        "\n",
        "I_trapz = trapz(f,x)\n",
        "I_trap = (h/2)*(f[0]+ 2 * sum(f[1:n-1]) + f[n-1])\n",
        "\n",
        "print (I_trapz)\n",
        "print (I_trap)\n",
        ""
      ],
      "metadata": {
        "id": "skkAlqwsRwHT"
      },
      "execution_count": null,
      "outputs": []
    },
    {
      "cell_type": "code",
      "source": [
        "import numpy as np\n",
        "from scipy.integrate import trapz\n",
        "\n",
        "a = 0\n",
        "b = np.pi\n",
        "n = 17\n",
        "h = (b-a) / (n-1)\n",
        "x = np.linspace(a, b, n)\n",
        "f = np.sin(x)\n",
        "\n",
        "I_trapz = trapz(f,x)\n",
        "I_trap = (h/2)*(f[0]+ 2 * sum(f[1:n-1]) + f[n-1])\n",
        "\n",
        "print (I_trapz)\n",
        "print (I_trap)"
      ],
      "metadata": {
        "id": "OrKtoIM2R1KU"
      },
      "execution_count": null,
      "outputs": []
    }
  ]
}