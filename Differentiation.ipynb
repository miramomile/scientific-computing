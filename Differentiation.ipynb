{
  "nbformat": 4,
  "nbformat_minor": 0,
  "metadata": {
    "colab": {
      "provenance": [],
      "authorship_tag": "ABX9TyOnMU7zxcMvnHA2wbWIanaW",
      "include_colab_link": true
    },
    "kernelspec": {
      "name": "python3",
      "display_name": "Python 3"
    },
    "language_info": {
      "name": "python"
    }
  },
  "cells": [
    {
      "cell_type": "markdown",
      "metadata": {
        "id": "view-in-github",
        "colab_type": "text"
      },
      "source": [
        "<a href=\"https://colab.research.google.com/github/miramomile/scientific-computing/blob/main/Differentiation.ipynb\" target=\"_parent\"><img src=\"https://colab.research.google.com/assets/colab-badge.svg\" alt=\"Open In Colab\"/></a>"
      ]
    },
    {
      "cell_type": "code",
      "execution_count": null,
      "metadata": {
        "id": "5lE4UnnQQdpw"
      },
      "outputs": [],
      "source": [
        "import numpy as np\n",
        "import matplotlib.pyplot as plt\n",
        "plt.style.use('seaborn-poster')\n",
        "%matplotlib inline"
      ]
    },
    {
      "cell_type": "code",
      "source": [
        "#step size\n",
        "h = 0.1\n",
        "\n",
        "#define grid\n",
        "x = np.arange(0,2*np.pi,h)\n",
        "\n",
        "#compute function\n",
        "y = np.cos(x)\n",
        "\n",
        "#compute vector of forward differences\n",
        "forward_diff = np.diff(y)/h\n",
        "\n",
        "#compute corresponding grid\n",
        "x_diff = x[:-1:]\n",
        "\n",
        "#compute exact solution\n",
        "exact_solution = -np.sin(x_diff)"
      ],
      "metadata": {
        "id": "DtYlErm9QsD3"
      },
      "execution_count": null,
      "outputs": []
    },
    {
      "cell_type": "code",
      "source": [
        "#plot solution\n",
        "plt.figure(figsize = (12, 8))\n",
        "plt.plot(x_diff,forward_diff,'--', label = 'Finite difference approximation')\n",
        "plt.plot(x_diff,exact_solution,'--', label = 'Exact solution')\n",
        "plt.legend()\n",
        "plt.show()"
      ],
      "metadata": {
        "id": "yZv_JciGQuf4"
      },
      "execution_count": null,
      "outputs": []
    },
    {
      "cell_type": "code",
      "source": [
        "import numpy as np\n",
        "\n",
        "# Define step size\n",
        "h = 0.1\n",
        "\n",
        "# Define grid\n",
        "x = np.arange(0, 2*np.pi, h)\n",
        "\n",
        "# Compute function\n",
        "y = np.cos(x)\n",
        "\n",
        "# Compute vector of forward differences\n",
        "forward_diff = np.diff(y) / h\n",
        "\n",
        "# Compute exact solution\n",
        "exact_solution = -np.sin(x[:-1])\n",
        "\n",
        "# Define given data points and their corresponding function values\n",
        "data_points = {\n",
        "    0.0: 0.000,\n",
        "    0.1: 0.0819,\n",
        "    0.2: 0.1341,\n",
        "    0.3: 0.1646,\n",
        "    0.4: 0.1797\n",
        "}\n",
        "\n",
        "# Compute f'(x) and f''(x) using finite difference approximations at x = 0 and 0.2\n",
        "x_values = [0.0, 0.2]\n",
        "\n",
        "for x_val in x_values:\n",
        "    # Find the closest grid point to the given x value\n",
        "    closest_index = np.abs(x - x_val).argmin()\n",
        "    x_closest = x[closest_index]\n",
        "\n",
        "    # Compute forward difference approximation for f'(x)\n",
        "    forward_diff_approx = forward_diff[closest_index]\n",
        "\n",
        "    # Compute central difference approximation for f''(x)\n",
        "    central_diff_approx = (y[closest_index + 1] - 2 * y[closest_index] + y[closest_index - 1]) / (h**2)\n",
        "\n",
        "    print(f\"At x = {x_closest}:\")\n",
        "    print(f\"f'(x) ≈ {forward_diff_approx}\")\n",
        "    print(f\"f''(x) ≈ {central_diff_approx}\")\n",
        "    print()"
      ],
      "metadata": {
        "id": "Hp71RJQyQ2v8"
      },
      "execution_count": null,
      "outputs": []
    }
  ]
}